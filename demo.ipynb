{
 "cells": [
  {
   "cell_type": "code",
   "execution_count": 1,
   "id": "6bfe8d8d",
   "metadata": {},
   "outputs": [],
   "source": [
    "from sympy import init_printing\n",
    "from main import *\n",
    "\n",
    "init_printing()"
   ]
  },
  {
   "cell_type": "code",
   "execution_count": 2,
   "id": "89eeef81",
   "metadata": {},
   "outputs": [
    {
     "name": "stdout",
     "output_type": "stream",
     "text": [
      "CPU times: user 178 ms, sys: 0 ns, total: 178 ms\n",
      "Wall time: 183 ms\n"
     ]
    },
    {
     "data": {
      "image/png": "[encoded data removed]",
      "text/latex": [
       "$\\displaystyle \\left[ q - 2 q^{2} - q^{3} + 2 q^{4} + q^{5} + 2 q^{6} - 2 q^{7} - 2 q^{9} + O\\left(q^{10}\\right)\\right]$"
      ],
      "text/plain": [
       "⎡       2    3      4    5      6      7      9    ⎛ 10⎞⎤\n",
       "⎣q - 2⋅q  - q  + 2⋅q  + q  + 2⋅q  - 2⋅q  - 2⋅q  + O⎝q  ⎠⎦"
      ]
     },
     "execution_count": 2,
     "metadata": {},
     "output_type": "execute_result"
    }
   ],
   "source": [
    "%time cusp_forms(2, 11)"
   ]
  },
  {
   "cell_type": "code",
   "execution_count": 3,
   "id": "1879216f",
   "metadata": {
    "scrolled": true
   },
   "outputs": [
    {
     "name": "stdout",
     "output_type": "stream",
     "text": [
      "CPU times: user 357 ms, sys: 0 ns, total: 357 ms\n",
      "Wall time: 357 ms\n"
     ]
    },
    {
     "data": {
      "image/png": "[encoded data removed]",
      "text/latex": [
       "$\\displaystyle \\left[ q - 4 q^{2} + 2 q^{3} + 8 q^{4} - 5 q^{5} - 8 q^{6} + 6 q^{7} - 23 q^{9} + O\\left(q^{10}\\right)\\right]$"
      ],
      "text/plain": [
       "⎡       2      3      4      5      6      7       9    ⎛ 10⎞⎤\n",
       "⎣q - 4⋅q  + 2⋅q  + 8⋅q  - 5⋅q  - 8⋅q  + 6⋅q  - 23⋅q  + O⎝q  ⎠⎦"
      ]
     },
     "execution_count": 3,
     "metadata": {},
     "output_type": "execute_result"
    }
   ],
   "source": [
    "%time cusp_forms(4, 5)"
   ]
  },
  {
   "cell_type": "code",
   "execution_count": 4,
   "id": "7e778cdc",
   "metadata": {},
   "outputs": [
    {
     "name": "stdout",
     "output_type": "stream",
     "text": [
      "CPU times: user 634 ms, sys: 5.94 ms, total: 640 ms\n",
      "Wall time: 642 ms\n"
     ]
    },
    {
     "data": {
      "image/png": "[encoded data removed]",
      "text/latex": [
       "$\\displaystyle \\left[ q + q^{5} - q^{6} - 2 q^{7} - 3 q^{8} + q^{9} + O\\left(q^{10}\\right), \\  q^{2} - 2 q^{4} - 2 q^{5} + q^{6} + 2 q^{7} + q^{8} + O\\left(q^{10}\\right), \\  q^{3} - q^{4} - 3 q^{5} + q^{6} + 4 q^{7} + q^{8} + O\\left(q^{10}\\right)\\right]$"
      ],
      "text/plain": [
       "⎡     5    6      7      8    9    ⎛ 10⎞   2      4      5    6      7 \n",
       "⎣q + q  - q  - 2⋅q  - 3⋅q  + q  + O⎝q  ⎠, q  - 2⋅q  - 2⋅q  + q  + 2⋅q  \n",
       "\n",
       "   8    ⎛ 10⎞   3    4      5    6      7    8    ⎛ 10⎞⎤\n",
       "+ q  + O⎝q  ⎠, q  - q  - 3⋅q  + q  + 4⋅q  + q  + O⎝q  ⎠⎦"
      ]
     },
     "execution_count": 4,
     "metadata": {},
     "output_type": "execute_result"
    }
   ],
   "source": [
    "%time cusp_forms(2, 39)"
   ]
  },
  {
   "cell_type": "code",
   "execution_count": 5,
   "id": "16d24b74",
   "metadata": {
    "scrolled": true
   },
   "outputs": [
    {
     "name": "stdout",
     "output_type": "stream",
     "text": [
      "CPU times: user 424 ms, sys: 3.19 ms, total: 428 ms\n",
      "Wall time: 427 ms\n"
     ]
    },
    {
     "data": {
      "image/png": "[encoded data removed]",
      "text/latex": [
       "$\\displaystyle \\left[ q - 24 q^{2} + 252 q^{3} - 1472 q^{4} + 4830 q^{5} - 6048 q^{6} - 16744 q^{7} + 84480 q^{8} - 113643 q^{9} + O\\left(q^{10}\\right)\\right]$"
      ],
      "text/plain": [
       "⎡        2        3         4         5         6          7          8\n",
       "⎣q - 24⋅q  + 252⋅q  - 1472⋅q  + 4830⋅q  - 6048⋅q  - 16744⋅q  + 84480⋅q \n",
       "\n",
       "           9    ⎛ 10⎞⎤\n",
       " - 113643⋅q  + O⎝q  ⎠⎦"
      ]
     },
     "execution_count": 5,
     "metadata": {},
     "output_type": "execute_result"
    }
   ],
   "source": [
    "%time cusp_forms(12, 1)"
   ]
  }
 ],
 "metadata": {
  "kernelspec": {
   "display_name": "Python 3 (ipykernel)",
   "language": "python",
   "name": "python3"
  },
  "language_info": {
   "codemirror_mode": {
    "name": "ipython",
    "version": 3
   },
   "file_extension": ".py",
   "mimetype": "text/x-python",
   "name": "python",
   "nbconvert_exporter": "python",
   "pygments_lexer": "ipython3",
   "version": "3.10.10"
  }
 },
 "nbformat": 4,
 "nbformat_minor": 5
}
